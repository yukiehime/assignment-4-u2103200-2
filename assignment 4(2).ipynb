{
 "cells": [
  {
   "cell_type": "code",
   "execution_count": 17,
   "id": "70fb14ee",
   "metadata": {},
   "outputs": [
    {
     "ename": "IndentationError",
     "evalue": "unexpected indent (2805804310.py, line 8)",
     "output_type": "error",
     "traceback": [
      "\u001b[1;36m  Cell \u001b[1;32mIn[17], line 8\u001b[1;36m\u001b[0m\n\u001b[1;33m    print(f\"Books Checked Out:\", book1_name + book2_name)\u001b[0m\n\u001b[1;37m    ^\u001b[0m\n\u001b[1;31mIndentationError\u001b[0m\u001b[1;31m:\u001b[0m unexpected indent\n"
     ]
    }
   ],
   "source": [
    "def checkout_books(librarian_name, *book_titles, duration='3 weeks', **kwargs):\n",
    "   \n",
    "    # Display information about a librarian\n",
    "    print(f\"Checkout Processed by:\" + librarian_name)\n",
    "# Positional arguments:\n",
    "checkout_books('Sarah Connor', '1984,', ' Brave New World')\n",
    "\n",
    "    print(f\"Books Checked Out:\", book1_name + book2_name)\n",
    "# Positional arguments:\n",
    "checkout_books(librarian_name, '1984,', ' Brave New World')\n",
    "\n",
    "print(f\"Checkout duration: 3 weeks\")\n",
    "\n",
    "def kwargs(**details):\n",
    "     # Additional details.\n",
    "    print(\"Additional Checkout Details:\")\n",
    "    for detail, value in details.items():\n",
    "        print(\"- \" + detail.replace('_', ' ').title() + \": \" + str(value))\n",
    "        \n",
    "kwargs(Late_Fee='$0.25', Renewals_Allowed='2', Special_Conditions_for_Checkout='Handle with care')"
   ]
  },
  {
   "cell_type": "code",
   "execution_count": null,
   "id": "ba774d59",
   "metadata": {},
   "outputs": [],
   "source": []
  },
  {
   "cell_type": "code",
   "execution_count": null,
   "id": "2779f63f",
   "metadata": {},
   "outputs": [],
   "source": []
  }
 ],
 "metadata": {
  "kernelspec": {
   "display_name": "Python 3 (ipykernel)",
   "language": "python",
   "name": "python3"
  },
  "language_info": {
   "codemirror_mode": {
    "name": "ipython",
    "version": 3
   },
   "file_extension": ".py",
   "mimetype": "text/x-python",
   "name": "python",
   "nbconvert_exporter": "python",
   "pygments_lexer": "ipython3",
   "version": "3.11.5"
  }
 },
 "nbformat": 4,
 "nbformat_minor": 5
}
