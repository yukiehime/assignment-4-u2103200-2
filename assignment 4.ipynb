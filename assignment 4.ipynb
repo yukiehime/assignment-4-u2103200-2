{
 "cells": [
  {
   "cell_type": "code",
   "execution_count": 50,
   "id": "369dad74",
   "metadata": {},
   "outputs": [
    {
     "name": "stdout",
     "output_type": "stream",
     "text": [
      "Checkout Processed by:Sarah Connor\n",
      "Books Checked Out: 1984, Brave New World\n"
     ]
    }
   ],
   "source": [
    "def librarian_information(librarian_name):\n",
    "    # Display information about a librarian\n",
    "    print(\"Checkout Processed by:\" + librarian_name)\n",
    "# Positional arguments:\n",
    "librarian_information('Sarah Connor')\n",
    "\n",
    "def book_information(book1_name, book2_name):\n",
    "    # Display information about a book\n",
    "    print(\"Books Checked Out:\", book1_name + book2_name)\n",
    "# Positional arguments:\n",
    "book_information('1984,', ' Brave New World')\n",
    "\n"
   ]
  },
  {
   "cell_type": "code",
   "execution_count": 45,
   "id": "d4d47ab8",
   "metadata": {},
   "outputs": [
    {
     "name": "stdout",
     "output_type": "stream",
     "text": [
      "Librarian Alice is processing the checkout:\n",
      "Checked out: Book1 by Unknown\n",
      "Checked out: Book2 by Unknown\n",
      "Duration: 3 weeks\n",
      "Late Fee: $1.5 per day\n",
      "Special Conditions: Handle with care\n",
      "Currently checked out books:\n",
      "Book1 by Unknown\n",
      "Book2 by Unknown\n"
     ]
    }
   ],
   "source": [
    "class Book:\n",
    "    def __init__(self, title, author):\n",
    "        self.title = title\n",
    "        self.author = author\n",
    "        self.checked_out = False\n",
    "\n",
    "class CheckoutManager:\n",
    "    def __init__(self):\n",
    "        self.checked_out_books = []\n",
    "\n",
    "    def checkout_books(self, librarian_name, *book_titles, duration='2 weeks', **kwargs):\n",
    "        \"\"\"\n",
    "        Manages book checkouts at a library.\n",
    "\n",
    "        Parameters:\n",
    "        - librarian_name: str, required, the name of the librarian processing the checkout.\n",
    "        - *book_titles: str, one or more positional arguments representing the books being checked out.\n",
    "        - duration: str, keyword argument with a default value of '2 weeks', representing the standard checkout duration.\n",
    "        - **kwargs: additional information about the checkout, such as late_fee per day or any special_conditions to be noted.\n",
    "        \"\"\"\n",
    "        print(f\"Librarian {librarian_name} is processing the checkout:\")\n",
    "        \n",
    "        books_to_checkout = []\n",
    "        for title in book_titles:\n",
    "            book = Book(title, author='Unknown')  # You can enhance this by adding author information\n",
    "            books_to_checkout.append(book)\n",
    "\n",
    "        for book in books_to_checkout:\n",
    "            if not book.checked_out:\n",
    "                book.checked_out = True\n",
    "                self.checked_out_books.append(book)\n",
    "                print(f\"Checked out: {book.title} by {book.author}\")\n",
    "            else:\n",
    "                print(f\"Book {book.title} is already checked out.\")\n",
    "\n",
    "        print(f\"Duration: {duration}\")\n",
    "\n",
    "        if 'late_fee' in kwargs:\n",
    "            print(f\"Late Fee: ${kwargs['late_fee']} per day\")\n",
    "\n",
    "        if 'special_conditions' in kwargs:\n",
    "            print(f\"Special Conditions: {kwargs['special_conditions']}\")\n",
    "\n",
    "    def display_checked_out_books(self):\n",
    "        print(\"Currently checked out books:\")\n",
    "        for book in self.checked_out_books:\n",
    "            print(f\"{book.title} by {book.author}\")\n",
    "\n",
    "# Example usage:\n",
    "checkout_manager = CheckoutManager()\n",
    "checkout_manager.checkout_books('Alice', 'Book1', 'Book2', duration='3 weeks', late_fee=1.50, special_conditions='Handle with care')\n",
    "checkout_manager.display_checked_out_books()"
   ]
  },
  {
   "cell_type": "code",
   "execution_count": 63,
   "id": "2825f0b8",
   "metadata": {},
   "outputs": [
    {
     "name": "stdout",
     "output_type": "stream",
     "text": [
      "Checkout Processed by: Sarah Connor\n",
      "Books Checked Out: 1984, Brave New World\n",
      "Checkout duration: 3 weeks\n",
      "Additional Checkout Details:\n",
      "- Late Fee: $0.25\n",
      "- Renewals Allowed: 2\n",
      "- Special Conditions For Checkout: Handle with care\n"
     ]
    }
   ],
   "source": [
    "def checkout_books(librarian_name, *book_titles, duration='3 weeks', **kwargs):\n",
    "     \n",
    "    print(f\"Checkout Processed by:\" + librarian_name)\n",
    "# Positional arguments:\n",
    "librarian_information(' Sarah Connor')\n",
    "\n",
    "def book_titles(book1_name, book2_name):\n",
    "    # Display information about a book\n",
    "    print(f\"Books Checked Out:\", book1_name + book2_name)\n",
    "# Positional arguments:\n",
    "book_information('1984,', ' Brave New World')\n",
    "\n",
    "print(f\"Checkout duration: 3 weeks\")\n",
    "\n",
    "def kwargs(**details):\n",
    "     # Additional details.\n",
    "    print(\"Additional Checkout Details:\")\n",
    "    for detail, value in details.items():\n",
    "        print(\"- \" + detail.replace('_', ' ').title() + \": \" + str(value))\n",
    "        \n",
    "kwargs(Late_Fee='$0.25', Renewals_Allowed='2', Special_Conditions_for_Checkout='Handle with care')"
   ]
  },
  {
   "cell_type": "code",
   "execution_count": null,
   "id": "b90be99a",
   "metadata": {},
   "outputs": [],
   "source": []
  }
 ],
 "metadata": {
  "kernelspec": {
   "display_name": "Python 3 (ipykernel)",
   "language": "python",
   "name": "python3"
  },
  "language_info": {
   "codemirror_mode": {
    "name": "ipython",
    "version": 3
   },
   "file_extension": ".py",
   "mimetype": "text/x-python",
   "name": "python",
   "nbconvert_exporter": "python",
   "pygments_lexer": "ipython3",
   "version": "3.11.5"
  }
 },
 "nbformat": 4,
 "nbformat_minor": 5
}
